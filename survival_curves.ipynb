{
  "nbformat": 4,
  "nbformat_minor": 0,
  "metadata": {
    "colab": {
      "name": "survival_curves.ipynb",
      "provenance": [],
      "collapsed_sections": [],
      "toc_visible": true,
      "authorship_tag": "ABX9TyOxVJVNvLLccN4bdL86HOFA",
      "include_colab_link": true
    },
    "kernelspec": {
      "name": "python3",
      "display_name": "Python 3"
    },
    "language_info": {
      "name": "python"
    }
  },
  "cells": [
    {
      "cell_type": "markdown",
      "metadata": {
        "id": "view-in-github",
        "colab_type": "text"
      },
      "source": [
        "<a href=\"https://colab.research.google.com/github/Jaimemorillo/covid-assignment/blob/main/survival_curves.ipynb\" target=\"_parent\"><img src=\"https://colab.research.google.com/assets/colab-badge.svg\" alt=\"Open In Colab\"/></a>"
      ]
    },
    {
      "cell_type": "code",
      "execution_count": null,
      "metadata": {
        "colab": {
          "base_uri": "https://localhost:8080/"
        },
        "id": "HWOL32dxTbvj",
        "outputId": "69f22621-2a99-405c-c349-40700147a794"
      },
      "outputs": [
        {
          "output_type": "stream",
          "name": "stdout",
          "text": [
            "Mounted at /content/gdrive\n"
          ]
        }
      ],
      "source": [
        "from google.colab import drive\n",
        "drive.mount('/content/gdrive')"
      ]
    },
    {
      "cell_type": "code",
      "source": [
        "data_path = '/content/gdrive/MyDrive/covid_assignment/COVID19_data.csv'"
      ],
      "metadata": {
        "id": "ftrwDYFhR0f9"
      },
      "execution_count": null,
      "outputs": []
    },
    {
      "cell_type": "code",
      "source": [
        "%pip install lifelines"
      ],
      "metadata": {
        "colab": {
          "base_uri": "https://localhost:8080/"
        },
        "id": "xg8DJBSSac5C",
        "outputId": "4e310b21-b992-47fa-bd7d-0b7ddbce8170"
      },
      "execution_count": null,
      "outputs": [
        {
          "output_type": "stream",
          "name": "stdout",
          "text": [
            "Collecting lifelines\n",
            "  Downloading lifelines-0.26.4-py3-none-any.whl (348 kB)\n",
            "\u001b[K     |████████████████████████████████| 348 kB 5.2 MB/s \n",
            "\u001b[?25hRequirement already satisfied: numpy>=1.14.0 in /usr/local/lib/python3.7/dist-packages (from lifelines) (1.19.5)\n",
            "Collecting formulaic<0.3,>=0.2.2\n",
            "  Downloading formulaic-0.2.4-py3-none-any.whl (55 kB)\n",
            "\u001b[K     |████████████████████████████████| 55 kB 3.1 MB/s \n",
            "\u001b[?25hRequirement already satisfied: matplotlib>=3.0 in /usr/local/lib/python3.7/dist-packages (from lifelines) (3.2.2)\n",
            "Requirement already satisfied: pandas>=0.23.0 in /usr/local/lib/python3.7/dist-packages (from lifelines) (1.1.5)\n",
            "Collecting autograd-gamma>=0.3\n",
            "  Downloading autograd-gamma-0.5.0.tar.gz (4.0 kB)\n",
            "Requirement already satisfied: autograd>=1.3 in /usr/local/lib/python3.7/dist-packages (from lifelines) (1.3)\n",
            "Requirement already satisfied: scipy>=1.2.0 in /usr/local/lib/python3.7/dist-packages (from lifelines) (1.4.1)\n",
            "Requirement already satisfied: future>=0.15.2 in /usr/local/lib/python3.7/dist-packages (from autograd>=1.3->lifelines) (0.16.0)\n",
            "Collecting interface-meta>=1.2\n",
            "  Downloading interface_meta-1.2.4-py2.py3-none-any.whl (14 kB)\n",
            "Requirement already satisfied: wrapt in /usr/local/lib/python3.7/dist-packages (from formulaic<0.3,>=0.2.2->lifelines) (1.13.3)\n",
            "Requirement already satisfied: astor in /usr/local/lib/python3.7/dist-packages (from formulaic<0.3,>=0.2.2->lifelines) (0.8.1)\n",
            "Requirement already satisfied: cycler>=0.10 in /usr/local/lib/python3.7/dist-packages (from matplotlib>=3.0->lifelines) (0.11.0)\n",
            "Requirement already satisfied: pyparsing!=2.0.4,!=2.1.2,!=2.1.6,>=2.0.1 in /usr/local/lib/python3.7/dist-packages (from matplotlib>=3.0->lifelines) (3.0.6)\n",
            "Requirement already satisfied: kiwisolver>=1.0.1 in /usr/local/lib/python3.7/dist-packages (from matplotlib>=3.0->lifelines) (1.3.2)\n",
            "Requirement already satisfied: python-dateutil>=2.1 in /usr/local/lib/python3.7/dist-packages (from matplotlib>=3.0->lifelines) (2.8.2)\n",
            "Requirement already satisfied: pytz>=2017.2 in /usr/local/lib/python3.7/dist-packages (from pandas>=0.23.0->lifelines) (2018.9)\n",
            "Requirement already satisfied: six>=1.5 in /usr/local/lib/python3.7/dist-packages (from python-dateutil>=2.1->matplotlib>=3.0->lifelines) (1.15.0)\n",
            "Building wheels for collected packages: autograd-gamma\n",
            "  Building wheel for autograd-gamma (setup.py) ... \u001b[?25l\u001b[?25hdone\n",
            "  Created wheel for autograd-gamma: filename=autograd_gamma-0.5.0-py3-none-any.whl size=4049 sha256=05ed351e3b31eba9737684e6cf9fd19125fa4d40cd8df789fcf74caaf0206b52\n",
            "  Stored in directory: /root/.cache/pip/wheels/9f/01/ee/1331593abb5725ff7d8c1333aee93a50a1c29d6ddda9665c9f\n",
            "Successfully built autograd-gamma\n",
            "Installing collected packages: interface-meta, formulaic, autograd-gamma, lifelines\n",
            "Successfully installed autograd-gamma-0.5.0 formulaic-0.2.4 interface-meta-1.2.4 lifelines-0.26.4\n"
          ]
        }
      ]
    },
    {
      "cell_type": "code",
      "source": [
        "import pandas as pd\n",
        "import numpy as np\n",
        "\n",
        "import matplotlib.pyplot as plt\n",
        "import seaborn as sns\n",
        "\n",
        "from lifelines import KaplanMeierFitter \n",
        "from lifelines.statistics import (logrank_test, pairwise_logrank_test, multivariate_logrank_test, \n",
        "                                  survival_difference_at_fixed_point_in_time_test)\n",
        "\n",
        "plt.style.use('seaborn')"
      ],
      "metadata": {
        "id": "U054WsbiTxXR"
      },
      "execution_count": null,
      "outputs": []
    },
    {
      "cell_type": "markdown",
      "source": [
        "# Kaplan-Meier\n",
        "\n",
        "The estimator is defined as the fraction of observations who survived for a certain amount of time under the same circumstances \n",
        "\n",
        "https://towardsdatascience.com/introduction-to-survival-analysis-the-kaplan-meier-estimator-94ec5812a97a\n",
        "\n",
        "## Kaplan-Meier Curves\n",
        "A plot of the Kaplan-Meier estimator over time. We can use those curves as an exploratory tool — to compare the survival function between cohorts, groups that received some kind of treatment or not, behavioral clusters, etc."
      ],
      "metadata": {
        "id": "Uhg0TpKhXEEu"
      }
    },
    {
      "cell_type": "code",
      "source": [
        "df = pd.read_csv(data_path)"
      ],
      "metadata": {
        "id": "EP9y11r4b94V"
      },
      "execution_count": null,
      "outputs": []
    },
    {
      "cell_type": "code",
      "source": [
        "df"
      ],
      "metadata": {
        "colab": {
          "base_uri": "https://localhost:8080/",
          "height": 488
        },
        "id": "S4p67bQB4d_N",
        "outputId": "8e8b60c8-d71b-477f-946a-a67a0891f19e"
      },
      "execution_count": null,
      "outputs": [
        {
          "output_type": "execute_result",
          "data": {
            "text/html": [
              "\n",
              "  <div id=\"df-8ece7de2-9fda-48d6-a9c3-d4f3daf07004\">\n",
              "    <div class=\"colab-df-container\">\n",
              "      <div>\n",
              "<style scoped>\n",
              "    .dataframe tbody tr th:only-of-type {\n",
              "        vertical-align: middle;\n",
              "    }\n",
              "\n",
              "    .dataframe tbody tr th {\n",
              "        vertical-align: top;\n",
              "    }\n",
              "\n",
              "    .dataframe thead th {\n",
              "        text-align: right;\n",
              "    }\n",
              "</style>\n",
              "<table border=\"1\" class=\"dataframe\">\n",
              "  <thead>\n",
              "    <tr style=\"text-align: right;\">\n",
              "      <th></th>\n",
              "      <th>ID</th>\n",
              "      <th>AGE</th>\n",
              "      <th>SEX</th>\n",
              "      <th>DAYS_HOSPITAL</th>\n",
              "      <th>DAYS_ICU</th>\n",
              "      <th>EXITUS</th>\n",
              "      <th>DESTINATION</th>\n",
              "      <th>TEMP</th>\n",
              "      <th>HEART_RATE</th>\n",
              "      <th>GLUCOSE</th>\n",
              "      <th>SAT_O2</th>\n",
              "      <th>BLOOD_PRES_SYS</th>\n",
              "      <th>BLOOD_PRES_DIAS</th>\n",
              "    </tr>\n",
              "  </thead>\n",
              "  <tbody>\n",
              "    <tr>\n",
              "      <th>0</th>\n",
              "      <td>1</td>\n",
              "      <td>15.0</td>\n",
              "      <td>FEMALE</td>\n",
              "      <td>4</td>\n",
              "      <td>0</td>\n",
              "      <td>NO</td>\n",
              "      <td>NaN</td>\n",
              "      <td>37.0</td>\n",
              "      <td>0</td>\n",
              "      <td>0</td>\n",
              "      <td>92</td>\n",
              "      <td>0</td>\n",
              "      <td>0</td>\n",
              "    </tr>\n",
              "    <tr>\n",
              "      <th>1</th>\n",
              "      <td>2</td>\n",
              "      <td>18.0</td>\n",
              "      <td>FEMALE</td>\n",
              "      <td>4</td>\n",
              "      <td>0</td>\n",
              "      <td>NO</td>\n",
              "      <td>ADMISSION</td>\n",
              "      <td>37.3</td>\n",
              "      <td>105</td>\n",
              "      <td>0</td>\n",
              "      <td>97</td>\n",
              "      <td>0</td>\n",
              "      <td>0</td>\n",
              "    </tr>\n",
              "    <tr>\n",
              "      <th>2</th>\n",
              "      <td>3</td>\n",
              "      <td>21.0</td>\n",
              "      <td>MALE</td>\n",
              "      <td>7</td>\n",
              "      <td>0</td>\n",
              "      <td>NO</td>\n",
              "      <td>NaN</td>\n",
              "      <td>38.5</td>\n",
              "      <td>112</td>\n",
              "      <td>0</td>\n",
              "      <td>95</td>\n",
              "      <td>85</td>\n",
              "      <td>47</td>\n",
              "    </tr>\n",
              "    <tr>\n",
              "      <th>3</th>\n",
              "      <td>4</td>\n",
              "      <td>21.0</td>\n",
              "      <td>MALE</td>\n",
              "      <td>10</td>\n",
              "      <td>0</td>\n",
              "      <td>NO</td>\n",
              "      <td>ADMISSION</td>\n",
              "      <td>39.2</td>\n",
              "      <td>113</td>\n",
              "      <td>0</td>\n",
              "      <td>97</td>\n",
              "      <td>0</td>\n",
              "      <td>0</td>\n",
              "    </tr>\n",
              "    <tr>\n",
              "      <th>4</th>\n",
              "      <td>5</td>\n",
              "      <td>22.0</td>\n",
              "      <td>MALE</td>\n",
              "      <td>4</td>\n",
              "      <td>0</td>\n",
              "      <td>NO</td>\n",
              "      <td>NaN</td>\n",
              "      <td>36.3</td>\n",
              "      <td>80</td>\n",
              "      <td>0</td>\n",
              "      <td>92</td>\n",
              "      <td>111</td>\n",
              "      <td>70</td>\n",
              "    </tr>\n",
              "    <tr>\n",
              "      <th>...</th>\n",
              "      <td>...</td>\n",
              "      <td>...</td>\n",
              "      <td>...</td>\n",
              "      <td>...</td>\n",
              "      <td>...</td>\n",
              "      <td>...</td>\n",
              "      <td>...</td>\n",
              "      <td>...</td>\n",
              "      <td>...</td>\n",
              "      <td>...</td>\n",
              "      <td>...</td>\n",
              "      <td>...</td>\n",
              "      <td>...</td>\n",
              "    </tr>\n",
              "    <tr>\n",
              "      <th>2049</th>\n",
              "      <td>2050</td>\n",
              "      <td>189.0</td>\n",
              "      <td>FEMALE</td>\n",
              "      <td>11</td>\n",
              "      <td>3</td>\n",
              "      <td>NO</td>\n",
              "      <td>ADMISSION</td>\n",
              "      <td>0.0</td>\n",
              "      <td>0</td>\n",
              "      <td>0</td>\n",
              "      <td>0</td>\n",
              "      <td>0</td>\n",
              "      <td>0</td>\n",
              "    </tr>\n",
              "    <tr>\n",
              "      <th>2050</th>\n",
              "      <td>2051</td>\n",
              "      <td>NaN</td>\n",
              "      <td>FEMALE</td>\n",
              "      <td>3</td>\n",
              "      <td>0</td>\n",
              "      <td>NO</td>\n",
              "      <td>NaN</td>\n",
              "      <td>36.5</td>\n",
              "      <td>0</td>\n",
              "      <td>0</td>\n",
              "      <td>0</td>\n",
              "      <td>0</td>\n",
              "      <td>0</td>\n",
              "    </tr>\n",
              "    <tr>\n",
              "      <th>2051</th>\n",
              "      <td>2052</td>\n",
              "      <td>NaN</td>\n",
              "      <td>FEMALE</td>\n",
              "      <td>6</td>\n",
              "      <td>6</td>\n",
              "      <td>NO</td>\n",
              "      <td>NaN</td>\n",
              "      <td>36.8</td>\n",
              "      <td>190</td>\n",
              "      <td>0</td>\n",
              "      <td>98</td>\n",
              "      <td>0</td>\n",
              "      <td>0</td>\n",
              "    </tr>\n",
              "    <tr>\n",
              "      <th>2052</th>\n",
              "      <td>2053</td>\n",
              "      <td>NaN</td>\n",
              "      <td>MALE</td>\n",
              "      <td>5</td>\n",
              "      <td>0</td>\n",
              "      <td>NO</td>\n",
              "      <td>NaN</td>\n",
              "      <td>0.0</td>\n",
              "      <td>120</td>\n",
              "      <td>0</td>\n",
              "      <td>93</td>\n",
              "      <td>0</td>\n",
              "      <td>0</td>\n",
              "    </tr>\n",
              "    <tr>\n",
              "      <th>2053</th>\n",
              "      <td>2054</td>\n",
              "      <td>NaN</td>\n",
              "      <td>MALE</td>\n",
              "      <td>3</td>\n",
              "      <td>0</td>\n",
              "      <td>NO</td>\n",
              "      <td>NaN</td>\n",
              "      <td>36.8</td>\n",
              "      <td>0</td>\n",
              "      <td>0</td>\n",
              "      <td>0</td>\n",
              "      <td>0</td>\n",
              "      <td>0</td>\n",
              "    </tr>\n",
              "  </tbody>\n",
              "</table>\n",
              "<p>2054 rows × 13 columns</p>\n",
              "</div>\n",
              "      <button class=\"colab-df-convert\" onclick=\"convertToInteractive('df-8ece7de2-9fda-48d6-a9c3-d4f3daf07004')\"\n",
              "              title=\"Convert this dataframe to an interactive table.\"\n",
              "              style=\"display:none;\">\n",
              "        \n",
              "  <svg xmlns=\"http://www.w3.org/2000/svg\" height=\"24px\"viewBox=\"0 0 24 24\"\n",
              "       width=\"24px\">\n",
              "    <path d=\"M0 0h24v24H0V0z\" fill=\"none\"/>\n",
              "    <path d=\"M18.56 5.44l.94 2.06.94-2.06 2.06-.94-2.06-.94-.94-2.06-.94 2.06-2.06.94zm-11 1L8.5 8.5l.94-2.06 2.06-.94-2.06-.94L8.5 2.5l-.94 2.06-2.06.94zm10 10l.94 2.06.94-2.06 2.06-.94-2.06-.94-.94-2.06-.94 2.06-2.06.94z\"/><path d=\"M17.41 7.96l-1.37-1.37c-.4-.4-.92-.59-1.43-.59-.52 0-1.04.2-1.43.59L10.3 9.45l-7.72 7.72c-.78.78-.78 2.05 0 2.83L4 21.41c.39.39.9.59 1.41.59.51 0 1.02-.2 1.41-.59l7.78-7.78 2.81-2.81c.8-.78.8-2.07 0-2.86zM5.41 20L4 18.59l7.72-7.72 1.47 1.35L5.41 20z\"/>\n",
              "  </svg>\n",
              "      </button>\n",
              "      \n",
              "  <style>\n",
              "    .colab-df-container {\n",
              "      display:flex;\n",
              "      flex-wrap:wrap;\n",
              "      gap: 12px;\n",
              "    }\n",
              "\n",
              "    .colab-df-convert {\n",
              "      background-color: #E8F0FE;\n",
              "      border: none;\n",
              "      border-radius: 50%;\n",
              "      cursor: pointer;\n",
              "      display: none;\n",
              "      fill: #1967D2;\n",
              "      height: 32px;\n",
              "      padding: 0 0 0 0;\n",
              "      width: 32px;\n",
              "    }\n",
              "\n",
              "    .colab-df-convert:hover {\n",
              "      background-color: #E2EBFA;\n",
              "      box-shadow: 0px 1px 2px rgba(60, 64, 67, 0.3), 0px 1px 3px 1px rgba(60, 64, 67, 0.15);\n",
              "      fill: #174EA6;\n",
              "    }\n",
              "\n",
              "    [theme=dark] .colab-df-convert {\n",
              "      background-color: #3B4455;\n",
              "      fill: #D2E3FC;\n",
              "    }\n",
              "\n",
              "    [theme=dark] .colab-df-convert:hover {\n",
              "      background-color: #434B5C;\n",
              "      box-shadow: 0px 1px 3px 1px rgba(0, 0, 0, 0.15);\n",
              "      filter: drop-shadow(0px 1px 2px rgba(0, 0, 0, 0.3));\n",
              "      fill: #FFFFFF;\n",
              "    }\n",
              "  </style>\n",
              "\n",
              "      <script>\n",
              "        const buttonEl =\n",
              "          document.querySelector('#df-8ece7de2-9fda-48d6-a9c3-d4f3daf07004 button.colab-df-convert');\n",
              "        buttonEl.style.display =\n",
              "          google.colab.kernel.accessAllowed ? 'block' : 'none';\n",
              "\n",
              "        async function convertToInteractive(key) {\n",
              "          const element = document.querySelector('#df-8ece7de2-9fda-48d6-a9c3-d4f3daf07004');\n",
              "          const dataTable =\n",
              "            await google.colab.kernel.invokeFunction('convertToInteractive',\n",
              "                                                     [key], {});\n",
              "          if (!dataTable) return;\n",
              "\n",
              "          const docLinkHtml = 'Like what you see? Visit the ' +\n",
              "            '<a target=\"_blank\" href=https://colab.research.google.com/notebooks/data_table.ipynb>data table notebook</a>'\n",
              "            + ' to learn more about interactive tables.';\n",
              "          element.innerHTML = '';\n",
              "          dataTable['output_type'] = 'display_data';\n",
              "          await google.colab.output.renderOutput(dataTable, element);\n",
              "          const docLink = document.createElement('div');\n",
              "          docLink.innerHTML = docLinkHtml;\n",
              "          element.appendChild(docLink);\n",
              "        }\n",
              "      </script>\n",
              "    </div>\n",
              "  </div>\n",
              "  "
            ],
            "text/plain": [
              "        ID    AGE     SEX  ...  SAT_O2  BLOOD_PRES_SYS BLOOD_PRES_DIAS\n",
              "0        1   15.0  FEMALE  ...      92               0               0\n",
              "1        2   18.0  FEMALE  ...      97               0               0\n",
              "2        3   21.0    MALE  ...      95              85              47\n",
              "3        4   21.0    MALE  ...      97               0               0\n",
              "4        5   22.0    MALE  ...      92             111              70\n",
              "...    ...    ...     ...  ...     ...             ...             ...\n",
              "2049  2050  189.0  FEMALE  ...       0               0               0\n",
              "2050  2051    NaN  FEMALE  ...       0               0               0\n",
              "2051  2052    NaN  FEMALE  ...      98               0               0\n",
              "2052  2053    NaN    MALE  ...      93               0               0\n",
              "2053  2054    NaN    MALE  ...       0               0               0\n",
              "\n",
              "[2054 rows x 13 columns]"
            ]
          },
          "metadata": {},
          "execution_count": 6
        }
      ]
    },
    {
      "cell_type": "code",
      "source": [
        "df.loc[:, 'DAYS_TOTAL'] = df.DAYS_HOSPITAL + df.DAYS_ICU"
      ],
      "metadata": {
        "id": "8AakusaVR2xO"
      },
      "execution_count": null,
      "outputs": []
    },
    {
      "cell_type": "code",
      "source": [
        "df.EXITUS.value_counts(dropna=False)"
      ],
      "metadata": {
        "colab": {
          "base_uri": "https://localhost:8080/"
        },
        "id": "g46HrmpYa74w",
        "outputId": "c0cd801d-6709-4745-d6d8-2593f2ac3951"
      },
      "execution_count": null,
      "outputs": [
        {
          "output_type": "execute_result",
          "data": {
            "text/plain": [
              "NO     1684\n",
              "YES     329\n",
              "NaN      41\n",
              "Name: EXITUS, dtype: int64"
            ]
          },
          "metadata": {},
          "execution_count": 43
        }
      ]
    },
    {
      "cell_type": "markdown",
      "source": [
        "Discard null values. We don't know if they are die or alive."
      ],
      "metadata": {
        "id": "wNLk_mNmbfTM"
      }
    },
    {
      "cell_type": "code",
      "source": [
        "df = df[~pd.isnull(df.EXITUS)]"
      ],
      "metadata": {
        "id": "DFvGZNjFbNq7"
      },
      "execution_count": null,
      "outputs": []
    },
    {
      "cell_type": "code",
      "source": [
        "df.loc[:,'DIE'] = df['EXITUS'].apply(lambda x: 1 if x=='NO' else 0)"
      ],
      "metadata": {
        "id": "1ck_ke5NaTFj"
      },
      "execution_count": null,
      "outputs": []
    },
    {
      "cell_type": "code",
      "source": [
        "df.SEX.value_counts(dropna=False)"
      ],
      "metadata": {
        "colab": {
          "base_uri": "https://localhost:8080/"
        },
        "id": "vHjXaja1fWNi",
        "outputId": "8c6c91ff-ce82-4a9b-f787-cda92e13d468"
      },
      "execution_count": null,
      "outputs": [
        {
          "output_type": "execute_result",
          "data": {
            "text/plain": [
              "MALE      1209\n",
              "FEMALE     802\n",
              "NaN          2\n",
              "Name: SEX, dtype: int64"
            ]
          },
          "metadata": {},
          "execution_count": 46
        }
      ]
    },
    {
      "cell_type": "code",
      "source": [
        "df = df[~pd.isnull(df.SEX)]"
      ],
      "metadata": {
        "id": "zBtLk-jsfaai"
      },
      "execution_count": null,
      "outputs": []
    },
    {
      "cell_type": "code",
      "source": [
        "len(df[pd.isnull(df.AGE)])"
      ],
      "metadata": {
        "colab": {
          "base_uri": "https://localhost:8080/"
        },
        "id": "XXwBv-WUgMR7",
        "outputId": "159be3a9-e161-493e-e3d8-d0685e8aec03"
      },
      "execution_count": null,
      "outputs": [
        {
          "output_type": "execute_result",
          "data": {
            "text/plain": [
              "4"
            ]
          },
          "metadata": {},
          "execution_count": 48
        }
      ]
    },
    {
      "cell_type": "code",
      "source": [
        "df = df[~pd.isnull(df.AGE)]"
      ],
      "metadata": {
        "id": "LUH8cla8gbVg"
      },
      "execution_count": null,
      "outputs": []
    },
    {
      "cell_type": "code",
      "source": [
        "df[df.SEX=='MALE'].EXITUS.value_counts().plot(kind='pie', \n",
        "                                              title='Exitus rate in Male', \n",
        "                                              autopct='%1.1f%%',colors=['tab:blue', 'tab:orange'])"
      ],
      "metadata": {
        "colab": {
          "base_uri": "https://localhost:8080/",
          "height": 363
        },
        "id": "XFvVUunM70UX",
        "outputId": "c6b2175c-5f6c-4c54-d898-de17108106f3"
      },
      "execution_count": null,
      "outputs": [
        {
          "output_type": "execute_result",
          "data": {
            "text/plain": [
              "<matplotlib.axes._subplots.AxesSubplot at 0x7fcd89fd5d90>"
            ]
          },
          "metadata": {},
          "execution_count": 64
        },
        {
          "output_type": "display_data",
          "data": {
            "image/png": "[encoded data removed]",
            "text/plain": [
              "<Figure size 576x396 with 1 Axes>"
            ]
          },
          "metadata": {}
        }
      ]
    },
    {
      "cell_type": "code",
      "source": [
        "df[df.SEX=='FEMALE'].EXITUS.value_counts().plot(kind='pie', \n",
        "                                              title='Exitus rate in Female', \n",
        "                                              autopct='%1.1f%%',colors=['tab:blue', 'tab:orange'])"
      ],
      "metadata": {
        "colab": {
          "base_uri": "https://localhost:8080/",
          "height": 363
        },
        "id": "FUMkL7rV-T0H",
        "outputId": "44c37524-bd97-42eb-e970-c1584576c143"
      },
      "execution_count": null,
      "outputs": [
        {
          "output_type": "execute_result",
          "data": {
            "text/plain": [
              "<matplotlib.axes._subplots.AxesSubplot at 0x7fcd89fa5410>"
            ]
          },
          "metadata": {},
          "execution_count": 65
        },
        {
          "output_type": "display_data",
          "data": {
            "image/png": "[encoded data removed]",
            "text/plain": [
              "<Figure size 576x396 with 1 Axes>"
            ]
          },
          "metadata": {}
        }
      ]
    },
    {
      "cell_type": "markdown",
      "source": [
        "## Survival curve (general)"
      ],
      "metadata": {
        "id": "vcTFCp5GeKIK"
      }
    },
    {
      "cell_type": "markdown",
      "source": [
        "### Plot"
      ],
      "metadata": {
        "id": "cdqMQu2J0WhQ"
      }
    },
    {
      "cell_type": "code",
      "source": [
        "T = df['DAYS_TOTAL']\n",
        "E = df['DIE']\n",
        "\n",
        "kmf = KaplanMeierFitter()\n",
        "kmf.fit(T, event_observed=E)\n",
        "\n",
        "kmf.plot(at_risk_counts=True)\n",
        "plt.title('Kaplan-Meier Curve');"
      ],
      "metadata": {
        "colab": {
          "base_uri": "https://localhost:8080/",
          "height": 416
        },
        "id": "Vj7TIHtGcIEZ",
        "outputId": "4f83e337-ad60-4844-b78e-bebcfc04c6fe"
      },
      "execution_count": null,
      "outputs": [
        {
          "output_type": "display_data",
          "data": {
            "image/png": "[encoded data removed]",
            "text/plain": [
              "<Figure size 576x396 with 2 Axes>"
            ]
          },
          "metadata": {}
        }
      ]
    },
    {
      "cell_type": "markdown",
      "source": [
        "Median survival time: the point in time in which on average 50% of the population has already died."
      ],
      "metadata": {
        "id": "sMZKYEvhdEDA"
      }
    },
    {
      "cell_type": "code",
      "source": [
        "kmf.median_survival_time_"
      ],
      "metadata": {
        "colab": {
          "base_uri": "https://localhost:8080/"
        },
        "id": "qPQ5W77kdDle",
        "outputId": "4d315244-ec1e-421b-e32c-8e152607585b"
      },
      "execution_count": null,
      "outputs": [
        {
          "output_type": "execute_result",
          "data": {
            "text/plain": [
              "8.0"
            ]
          },
          "metadata": {},
          "execution_count": 15
        }
      ]
    },
    {
      "cell_type": "markdown",
      "source": [
        "## Survival curves by sex"
      ],
      "metadata": {
        "id": "pR7pQGuceCst"
      }
    },
    {
      "cell_type": "markdown",
      "source": [
        "### Plot"
      ],
      "metadata": {
        "id": "net1A1fW0QU4"
      }
    },
    {
      "cell_type": "code",
      "source": [
        "ax = plt.subplot()\n",
        "\n",
        "kmf = KaplanMeierFitter()\n",
        "\n",
        "for sex in df['SEX'].unique():\n",
        "  flag = df['SEX'] == sex\n",
        "    \n",
        "  kmf.fit(T[flag], event_observed=E[flag], label=sex)\n",
        "  kmf.plot(ax=ax)\n",
        "  print('Median survival time of ' + sex + ': ' + str(kmf.median_survival_time_))\n",
        "\n",
        "plt.title(\"Survival curves by sex\");"
      ],
      "metadata": {
        "colab": {
          "base_uri": "https://localhost:8080/",
          "height": 413
        },
        "id": "bA8HMosZdzHN",
        "outputId": "cd890cbf-7c7b-42f2-a2c6-1fab0525dd6d"
      },
      "execution_count": null,
      "outputs": [
        {
          "output_type": "stream",
          "name": "stdout",
          "text": [
            "Median survival time of FEMALE: 7.0\n",
            "Median survival time of MALE: 8.0\n"
          ]
        },
        {
          "output_type": "display_data",
          "data": {
            "image/png": "[encoded data removed]",
            "text/plain": [
              "<Figure size 576x396 with 1 Axes>"
            ]
          },
          "metadata": {}
        }
      ]
    },
    {
      "cell_type": "markdown",
      "source": [
        "### Logrank test\n",
        "\n",
        "https://lifelines.readthedocs.io/en/latest/lifelines.statistics.html"
      ],
      "metadata": {
        "id": "EZ8485SihIaR"
      }
    },
    {
      "cell_type": "code",
      "source": [
        "male_flag = df['SEX'] == 'MALE'\n",
        "female_flag = df['SEX'] == 'FEMALE'\n",
        "\n",
        "results = logrank_test(T[male_flag], \n",
        "                       T[female_flag], \n",
        "                       E[male_flag], \n",
        "                       E[female_flag])\n",
        "results.summary"
      ],
      "metadata": {
        "colab": {
          "base_uri": "https://localhost:8080/",
          "height": 81
        },
        "id": "nn1xmyWBhMxu",
        "outputId": "4371b52c-9e7c-46ce-9381-7824b5d0e0ac"
      },
      "execution_count": null,
      "outputs": [
        {
          "output_type": "execute_result",
          "data": {
            "text/html": [
              "\n",
              "  <div id=\"df-b8ad46d3-ffcc-457c-9a6d-288f7fc5e1db\">\n",
              "    <div class=\"colab-df-container\">\n",
              "      <div>\n",
              "<style scoped>\n",
              "    .dataframe tbody tr th:only-of-type {\n",
              "        vertical-align: middle;\n",
              "    }\n",
              "\n",
              "    .dataframe tbody tr th {\n",
              "        vertical-align: top;\n",
              "    }\n",
              "\n",
              "    .dataframe thead th {\n",
              "        text-align: right;\n",
              "    }\n",
              "</style>\n",
              "<table border=\"1\" class=\"dataframe\">\n",
              "  <thead>\n",
              "    <tr style=\"text-align: right;\">\n",
              "      <th></th>\n",
              "      <th>test_statistic</th>\n",
              "      <th>p</th>\n",
              "      <th>-log2(p)</th>\n",
              "    </tr>\n",
              "  </thead>\n",
              "  <tbody>\n",
              "    <tr>\n",
              "      <th>0</th>\n",
              "      <td>18.249259</td>\n",
              "      <td>0.000019</td>\n",
              "      <td>15.655062</td>\n",
              "    </tr>\n",
              "  </tbody>\n",
              "</table>\n",
              "</div>\n",
              "      <button class=\"colab-df-convert\" onclick=\"convertToInteractive('df-b8ad46d3-ffcc-457c-9a6d-288f7fc5e1db')\"\n",
              "              title=\"Convert this dataframe to an interactive table.\"\n",
              "              style=\"display:none;\">\n",
              "        \n",
              "  <svg xmlns=\"http://www.w3.org/2000/svg\" height=\"24px\"viewBox=\"0 0 24 24\"\n",
              "       width=\"24px\">\n",
              "    <path d=\"M0 0h24v24H0V0z\" fill=\"none\"/>\n",
              "    <path d=\"M18.56 5.44l.94 2.06.94-2.06 2.06-.94-2.06-.94-.94-2.06-.94 2.06-2.06.94zm-11 1L8.5 8.5l.94-2.06 2.06-.94-2.06-.94L8.5 2.5l-.94 2.06-2.06.94zm10 10l.94 2.06.94-2.06 2.06-.94-2.06-.94-.94-2.06-.94 2.06-2.06.94z\"/><path d=\"M17.41 7.96l-1.37-1.37c-.4-.4-.92-.59-1.43-.59-.52 0-1.04.2-1.43.59L10.3 9.45l-7.72 7.72c-.78.78-.78 2.05 0 2.83L4 21.41c.39.39.9.59 1.41.59.51 0 1.02-.2 1.41-.59l7.78-7.78 2.81-2.81c.8-.78.8-2.07 0-2.86zM5.41 20L4 18.59l7.72-7.72 1.47 1.35L5.41 20z\"/>\n",
              "  </svg>\n",
              "      </button>\n",
              "      \n",
              "  <style>\n",
              "    .colab-df-container {\n",
              "      display:flex;\n",
              "      flex-wrap:wrap;\n",
              "      gap: 12px;\n",
              "    }\n",
              "\n",
              "    .colab-df-convert {\n",
              "      background-color: #E8F0FE;\n",
              "      border: none;\n",
              "      border-radius: 50%;\n",
              "      cursor: pointer;\n",
              "      display: none;\n",
              "      fill: #1967D2;\n",
              "      height: 32px;\n",
              "      padding: 0 0 0 0;\n",
              "      width: 32px;\n",
              "    }\n",
              "\n",
              "    .colab-df-convert:hover {\n",
              "      background-color: #E2EBFA;\n",
              "      box-shadow: 0px 1px 2px rgba(60, 64, 67, 0.3), 0px 1px 3px 1px rgba(60, 64, 67, 0.15);\n",
              "      fill: #174EA6;\n",
              "    }\n",
              "\n",
              "    [theme=dark] .colab-df-convert {\n",
              "      background-color: #3B4455;\n",
              "      fill: #D2E3FC;\n",
              "    }\n",
              "\n",
              "    [theme=dark] .colab-df-convert:hover {\n",
              "      background-color: #434B5C;\n",
              "      box-shadow: 0px 1px 3px 1px rgba(0, 0, 0, 0.15);\n",
              "      filter: drop-shadow(0px 1px 2px rgba(0, 0, 0, 0.3));\n",
              "      fill: #FFFFFF;\n",
              "    }\n",
              "  </style>\n",
              "\n",
              "      <script>\n",
              "        const buttonEl =\n",
              "          document.querySelector('#df-b8ad46d3-ffcc-457c-9a6d-288f7fc5e1db button.colab-df-convert');\n",
              "        buttonEl.style.display =\n",
              "          google.colab.kernel.accessAllowed ? 'block' : 'none';\n",
              "\n",
              "        async function convertToInteractive(key) {\n",
              "          const element = document.querySelector('#df-b8ad46d3-ffcc-457c-9a6d-288f7fc5e1db');\n",
              "          const dataTable =\n",
              "            await google.colab.kernel.invokeFunction('convertToInteractive',\n",
              "                                                     [key], {});\n",
              "          if (!dataTable) return;\n",
              "\n",
              "          const docLinkHtml = 'Like what you see? Visit the ' +\n",
              "            '<a target=\"_blank\" href=https://colab.research.google.com/notebooks/data_table.ipynb>data table notebook</a>'\n",
              "            + ' to learn more about interactive tables.';\n",
              "          element.innerHTML = '';\n",
              "          dataTable['output_type'] = 'display_data';\n",
              "          await google.colab.output.renderOutput(dataTable, element);\n",
              "          const docLink = document.createElement('div');\n",
              "          docLink.innerHTML = docLinkHtml;\n",
              "          element.appendChild(docLink);\n",
              "        }\n",
              "      </script>\n",
              "    </div>\n",
              "  </div>\n",
              "  "
            ],
            "text/plain": [
              "   test_statistic         p   -log2(p)\n",
              "0       18.249259  0.000019  15.655062"
            ]
          },
          "metadata": {},
          "execution_count": 18
        }
      ]
    },
    {
      "cell_type": "markdown",
      "source": [
        "p-value of 0.42: we can't reject the null hypothesis, the survival functions could be identical. "
      ],
      "metadata": {
        "id": "-QeDD58_iZYY"
      }
    },
    {
      "cell_type": "markdown",
      "source": [
        "## Survival curves by age group"
      ],
      "metadata": {
        "id": "q-5g1GUsjCze"
      }
    },
    {
      "cell_type": "markdown",
      "source": [
        "We create the age groups following the Spanish government's data reporting criteria."
      ],
      "metadata": {
        "id": "NTJKqwNykLJ5"
      }
    },
    {
      "cell_type": "code",
      "source": [
        "df.loc[df['AGE']<=11, 'AGE_GROUP'] = '<11'\n",
        "df.loc[df['AGE'].between(12,19), 'AGE_GROUP'] = '12-19'\n",
        "df.loc[df['AGE'].between(20,29), 'AGE_GROUP'] = '20-29'\n",
        "df.loc[df['AGE'].between(30,39), 'AGE_GROUP'] = '30-39'\n",
        "df.loc[df['AGE'].between(40,49), 'AGE_GROUP'] = '40-49'\n",
        "df.loc[df['AGE'].between(50,59), 'AGE_GROUP'] = '50-59'\n",
        "df.loc[df['AGE'].between(60,69), 'AGE_GROUP'] = '60-69'\n",
        "df.loc[df['AGE'].between(70,79), 'AGE_GROUP'] = '70-79'\n",
        "df.loc[df['AGE']>=80, 'AGE_GROUP'] = '>80'"
      ],
      "metadata": {
        "id": "E6HLzwG9jJfk"
      },
      "execution_count": null,
      "outputs": []
    },
    {
      "cell_type": "code",
      "source": [
        "df.AGE_GROUP.value_counts()"
      ],
      "metadata": {
        "colab": {
          "base_uri": "https://localhost:8080/"
        },
        "id": "fQoQ9TPmlFQU",
        "outputId": "4c1226bb-3cca-4305-bbd4-c2adeeacb5b1"
      },
      "execution_count": null,
      "outputs": [
        {
          "output_type": "execute_result",
          "data": {
            "text/plain": [
              ">80      574\n",
              "60-69    438\n",
              "70-79    373\n",
              "50-59    307\n",
              "40-49    204\n",
              "30-39     78\n",
              "20-29     31\n",
              "12-19      2\n",
              "Name: AGE_GROUP, dtype: int64"
            ]
          },
          "metadata": {},
          "execution_count": 20
        }
      ]
    },
    {
      "cell_type": "markdown",
      "source": [
        "### Plot"
      ],
      "metadata": {
        "id": "QBWTWfwb0S3n"
      }
    },
    {
      "cell_type": "code",
      "source": [
        "group_1 = ['12-19', '20-29', '30-39', '40-49']\n",
        "group_2 = ['50-59', '60-69', '70-79', '>80']"
      ],
      "metadata": {
        "id": "w4RsPsVoOaSf"
      },
      "execution_count": null,
      "outputs": []
    },
    {
      "cell_type": "markdown",
      "source": [
        "GROUP 1"
      ],
      "metadata": {
        "id": "iHzuKuQDPD8s"
      }
    },
    {
      "cell_type": "code",
      "source": [
        "ax = plt.subplot()\n",
        "\n",
        "kmf = KaplanMeierFitter()\n",
        "\n",
        "for age_group in group_1:\n",
        "  flag = df['AGE_GROUP'] == age_group\n",
        "  \n",
        "  kmf.fit(T[flag], event_observed=E[flag], label=age_group)\n",
        "  kmf.plot(ax=ax)\n",
        "  print('Median survival time of ' + age_group + ': ' + str(kmf.median_survival_time_))\n",
        "\n",
        "plt.title(\"Survival curves by age group (<50 años)\");"
      ],
      "metadata": {
        "colab": {
          "base_uri": "https://localhost:8080/",
          "height": 449
        },
        "id": "TNWNU8EBnIzj",
        "outputId": "9e3ed478-9b91-4341-d6dd-4fb4b9e6b243"
      },
      "execution_count": null,
      "outputs": [
        {
          "output_type": "stream",
          "name": "stdout",
          "text": [
            "Median survival time of 12-19: 4.0\n",
            "Median survival time of 20-29: 5.0\n",
            "Median survival time of 30-39: 5.0\n",
            "Median survival time of 40-49: 6.0\n"
          ]
        },
        {
          "output_type": "display_data",
          "data": {
            "image/png": "[encoded data removed]",
            "text/plain": [
              "<Figure size 576x396 with 1 Axes>"
            ]
          },
          "metadata": {}
        }
      ]
    },
    {
      "cell_type": "markdown",
      "source": [
        "GROUP 2"
      ],
      "metadata": {
        "id": "c7MjQkJvPFoD"
      }
    },
    {
      "cell_type": "code",
      "source": [
        "ax = plt.subplot()\n",
        "\n",
        "kmf = KaplanMeierFitter()\n",
        "\n",
        "for age_group in group_2:\n",
        "  flag = df['AGE_GROUP'] == age_group\n",
        "  \n",
        "  kmf.fit(T[flag], event_observed=E[flag], label=age_group)\n",
        "  kmf.plot(ax=ax)\n",
        "  print('Median survival time of ' + age_group + ': ' + str(kmf.median_survival_time_))\n",
        "\n",
        "plt.title(\"Survival curves by age group (>=50 años)\");"
      ],
      "metadata": {
        "colab": {
          "base_uri": "https://localhost:8080/",
          "height": 449
        },
        "id": "e-LoivaWPCiC",
        "outputId": "e4d51f1f-83fb-45e4-bcca-997248d660fb"
      },
      "execution_count": null,
      "outputs": [
        {
          "output_type": "stream",
          "name": "stdout",
          "text": [
            "Median survival time of 50-59: 7.0\n",
            "Median survival time of 60-69: 8.0\n",
            "Median survival time of 70-79: 9.0\n",
            "Median survival time of >80: 9.0\n"
          ]
        },
        {
          "output_type": "display_data",
          "data": {
            "image/png": "[encoded data removed]",
            "text/plain": [
              "<Figure size 576x396 with 1 Axes>"
            ]
          },
          "metadata": {}
        }
      ]
    },
    {
      "cell_type": "code",
      "source": [
        "data = {'Age group': group_1 + group_2,\n",
        "        'Median survival time': [4,5,5,6,7,8,9,9]}\n",
        "df_median = pd.DataFrame(data)"
      ],
      "metadata": {
        "id": "FEPk22rk4Pm7"
      },
      "execution_count": null,
      "outputs": []
    },
    {
      "cell_type": "code",
      "source": [
        "df_median.plot('Age group', 'Median survival time', kind='line', style='o-', ylabel='Days')"
      ],
      "metadata": {
        "colab": {
          "base_uri": "https://localhost:8080/",
          "height": 379
        },
        "id": "8Or7HvI744pk",
        "outputId": "23d0554e-22b6-49af-fffa-aa6cc75aaa6d"
      },
      "execution_count": null,
      "outputs": [
        {
          "output_type": "execute_result",
          "data": {
            "text/plain": [
              "<matplotlib.axes._subplots.AxesSubplot at 0x7fcd8a37fd50>"
            ]
          },
          "metadata": {},
          "execution_count": 40
        },
        {
          "output_type": "display_data",
          "data": {
            "image/png": "[encoded data removed]",
            "text/plain": [
              "<Figure size 576x396 with 1 Axes>"
            ]
          },
          "metadata": {}
        }
      ]
    },
    {
      "cell_type": "markdown",
      "source": [
        "### Logrank test"
      ],
      "metadata": {
        "id": "6M-Si7zNnkx3"
      }
    },
    {
      "cell_type": "code",
      "source": [
        "results = pairwise_logrank_test(T, df['AGE_GROUP'], E)\n",
        "results_df = results.summary\n",
        "results_df[results_df.p>=0.05]"
      ],
      "metadata": {
        "colab": {
          "base_uri": "https://localhost:8080/",
          "height": 269
        },
        "id": "hIsr3qDTPan9",
        "outputId": "e10dc03d-d06f-4315-d237-eceff40bd55f"
      },
      "execution_count": null,
      "outputs": [
        {
          "output_type": "execute_result",
          "data": {
            "text/html": [
              "\n",
              "  <div id=\"df-1e7234e4-9c84-4d4e-802e-55e07a5688ce\">\n",
              "    <div class=\"colab-df-container\">\n",
              "      <div>\n",
              "<style scoped>\n",
              "    .dataframe tbody tr th:only-of-type {\n",
              "        vertical-align: middle;\n",
              "    }\n",
              "\n",
              "    .dataframe tbody tr th {\n",
              "        vertical-align: top;\n",
              "    }\n",
              "\n",
              "    .dataframe thead th {\n",
              "        text-align: right;\n",
              "    }\n",
              "</style>\n",
              "<table border=\"1\" class=\"dataframe\">\n",
              "  <thead>\n",
              "    <tr style=\"text-align: right;\">\n",
              "      <th></th>\n",
              "      <th></th>\n",
              "      <th>test_statistic</th>\n",
              "      <th>p</th>\n",
              "      <th>-log2(p)</th>\n",
              "    </tr>\n",
              "  </thead>\n",
              "  <tbody>\n",
              "    <tr>\n",
              "      <th rowspan=\"3\" valign=\"top\">12-19</th>\n",
              "      <th>20-29</th>\n",
              "      <td>0.558073</td>\n",
              "      <td>0.455038</td>\n",
              "      <td>1.135942</td>\n",
              "    </tr>\n",
              "    <tr>\n",
              "      <th>30-39</th>\n",
              "      <td>1.349359</td>\n",
              "      <td>0.245390</td>\n",
              "      <td>2.026851</td>\n",
              "    </tr>\n",
              "    <tr>\n",
              "      <th>40-49</th>\n",
              "      <td>2.183817</td>\n",
              "      <td>0.139468</td>\n",
              "      <td>2.841992</td>\n",
              "    </tr>\n",
              "    <tr>\n",
              "      <th rowspan=\"2\" valign=\"top\">20-29</th>\n",
              "      <th>30-39</th>\n",
              "      <td>0.208079</td>\n",
              "      <td>0.648277</td>\n",
              "      <td>0.625317</td>\n",
              "    </tr>\n",
              "    <tr>\n",
              "      <th>40-49</th>\n",
              "      <td>2.393749</td>\n",
              "      <td>0.121821</td>\n",
              "      <td>3.037164</td>\n",
              "    </tr>\n",
              "    <tr>\n",
              "      <th>30-39</th>\n",
              "      <th>40-49</th>\n",
              "      <td>2.564269</td>\n",
              "      <td>0.109303</td>\n",
              "      <td>3.193594</td>\n",
              "    </tr>\n",
              "    <tr>\n",
              "      <th>70-79</th>\n",
              "      <th>&gt;80</th>\n",
              "      <td>1.107723</td>\n",
              "      <td>0.292578</td>\n",
              "      <td>1.773109</td>\n",
              "    </tr>\n",
              "  </tbody>\n",
              "</table>\n",
              "</div>\n",
              "      <button class=\"colab-df-convert\" onclick=\"convertToInteractive('df-1e7234e4-9c84-4d4e-802e-55e07a5688ce')\"\n",
              "              title=\"Convert this dataframe to an interactive table.\"\n",
              "              style=\"display:none;\">\n",
              "        \n",
              "  <svg xmlns=\"http://www.w3.org/2000/svg\" height=\"24px\"viewBox=\"0 0 24 24\"\n",
              "       width=\"24px\">\n",
              "    <path d=\"M0 0h24v24H0V0z\" fill=\"none\"/>\n",
              "    <path d=\"M18.56 5.44l.94 2.06.94-2.06 2.06-.94-2.06-.94-.94-2.06-.94 2.06-2.06.94zm-11 1L8.5 8.5l.94-2.06 2.06-.94-2.06-.94L8.5 2.5l-.94 2.06-2.06.94zm10 10l.94 2.06.94-2.06 2.06-.94-2.06-.94-.94-2.06-.94 2.06-2.06.94z\"/><path d=\"M17.41 7.96l-1.37-1.37c-.4-.4-.92-.59-1.43-.59-.52 0-1.04.2-1.43.59L10.3 9.45l-7.72 7.72c-.78.78-.78 2.05 0 2.83L4 21.41c.39.39.9.59 1.41.59.51 0 1.02-.2 1.41-.59l7.78-7.78 2.81-2.81c.8-.78.8-2.07 0-2.86zM5.41 20L4 18.59l7.72-7.72 1.47 1.35L5.41 20z\"/>\n",
              "  </svg>\n",
              "      </button>\n",
              "      \n",
              "  <style>\n",
              "    .colab-df-container {\n",
              "      display:flex;\n",
              "      flex-wrap:wrap;\n",
              "      gap: 12px;\n",
              "    }\n",
              "\n",
              "    .colab-df-convert {\n",
              "      background-color: #E8F0FE;\n",
              "      border: none;\n",
              "      border-radius: 50%;\n",
              "      cursor: pointer;\n",
              "      display: none;\n",
              "      fill: #1967D2;\n",
              "      height: 32px;\n",
              "      padding: 0 0 0 0;\n",
              "      width: 32px;\n",
              "    }\n",
              "\n",
              "    .colab-df-convert:hover {\n",
              "      background-color: #E2EBFA;\n",
              "      box-shadow: 0px 1px 2px rgba(60, 64, 67, 0.3), 0px 1px 3px 1px rgba(60, 64, 67, 0.15);\n",
              "      fill: #174EA6;\n",
              "    }\n",
              "\n",
              "    [theme=dark] .colab-df-convert {\n",
              "      background-color: #3B4455;\n",
              "      fill: #D2E3FC;\n",
              "    }\n",
              "\n",
              "    [theme=dark] .colab-df-convert:hover {\n",
              "      background-color: #434B5C;\n",
              "      box-shadow: 0px 1px 3px 1px rgba(0, 0, 0, 0.15);\n",
              "      filter: drop-shadow(0px 1px 2px rgba(0, 0, 0, 0.3));\n",
              "      fill: #FFFFFF;\n",
              "    }\n",
              "  </style>\n",
              "\n",
              "      <script>\n",
              "        const buttonEl =\n",
              "          document.querySelector('#df-1e7234e4-9c84-4d4e-802e-55e07a5688ce button.colab-df-convert');\n",
              "        buttonEl.style.display =\n",
              "          google.colab.kernel.accessAllowed ? 'block' : 'none';\n",
              "\n",
              "        async function convertToInteractive(key) {\n",
              "          const element = document.querySelector('#df-1e7234e4-9c84-4d4e-802e-55e07a5688ce');\n",
              "          const dataTable =\n",
              "            await google.colab.kernel.invokeFunction('convertToInteractive',\n",
              "                                                     [key], {});\n",
              "          if (!dataTable) return;\n",
              "\n",
              "          const docLinkHtml = 'Like what you see? Visit the ' +\n",
              "            '<a target=\"_blank\" href=https://colab.research.google.com/notebooks/data_table.ipynb>data table notebook</a>'\n",
              "            + ' to learn more about interactive tables.';\n",
              "          element.innerHTML = '';\n",
              "          dataTable['output_type'] = 'display_data';\n",
              "          await google.colab.output.renderOutput(dataTable, element);\n",
              "          const docLink = document.createElement('div');\n",
              "          docLink.innerHTML = docLinkHtml;\n",
              "          element.appendChild(docLink);\n",
              "        }\n",
              "      </script>\n",
              "    </div>\n",
              "  </div>\n",
              "  "
            ],
            "text/plain": [
              "             test_statistic         p  -log2(p)\n",
              "12-19 20-29        0.558073  0.455038  1.135942\n",
              "      30-39        1.349359  0.245390  2.026851\n",
              "      40-49        2.183817  0.139468  2.841992\n",
              "20-29 30-39        0.208079  0.648277  0.625317\n",
              "      40-49        2.393749  0.121821  3.037164\n",
              "30-39 40-49        2.564269  0.109303  3.193594\n",
              "70-79 >80          1.107723  0.292578  1.773109"
            ]
          },
          "metadata": {},
          "execution_count": 62
        }
      ]
    },
    {
      "cell_type": "markdown",
      "source": [
        "The distributions of the people younger than 50 years could be identical.\n",
        "The distribution between people with 70-79 and >80 years could also be identical."
      ],
      "metadata": {
        "id": "y0-dZ0saPopD"
      }
    },
    {
      "cell_type": "code",
      "source": [
        "results = pairwise_logrank_test(T, df['AGE_GROUP'], E)\n",
        "results_df = results.summary\n",
        "results_df[results_df.p<0.05]"
      ],
      "metadata": {
        "colab": {
          "base_uri": "https://localhost:8080/",
          "height": 708
        },
        "id": "xp7SR6NDnldj",
        "outputId": "33f0eacf-7e66-427e-f367-7b352b5af238"
      },
      "execution_count": null,
      "outputs": [
        {
          "output_type": "execute_result",
          "data": {
            "text/html": [
              "\n",
              "  <div id=\"df-8010a2d0-1349-4e3e-adc4-b66d08b0e35b\">\n",
              "    <div class=\"colab-df-container\">\n",
              "      <div>\n",
              "<style scoped>\n",
              "    .dataframe tbody tr th:only-of-type {\n",
              "        vertical-align: middle;\n",
              "    }\n",
              "\n",
              "    .dataframe tbody tr th {\n",
              "        vertical-align: top;\n",
              "    }\n",
              "\n",
              "    .dataframe thead th {\n",
              "        text-align: right;\n",
              "    }\n",
              "</style>\n",
              "<table border=\"1\" class=\"dataframe\">\n",
              "  <thead>\n",
              "    <tr style=\"text-align: right;\">\n",
              "      <th></th>\n",
              "      <th></th>\n",
              "      <th>test_statistic</th>\n",
              "      <th>p</th>\n",
              "      <th>-log2(p)</th>\n",
              "    </tr>\n",
              "  </thead>\n",
              "  <tbody>\n",
              "    <tr>\n",
              "      <th rowspan=\"4\" valign=\"top\">12-19</th>\n",
              "      <th>50-59</th>\n",
              "      <td>5.175348</td>\n",
              "      <td>2.290958e-02</td>\n",
              "      <td>5.447905</td>\n",
              "    </tr>\n",
              "    <tr>\n",
              "      <th>60-69</th>\n",
              "      <td>5.366820</td>\n",
              "      <td>2.052337e-02</td>\n",
              "      <td>5.606589</td>\n",
              "    </tr>\n",
              "    <tr>\n",
              "      <th>70-79</th>\n",
              "      <td>8.870945</td>\n",
              "      <td>2.897452e-03</td>\n",
              "      <td>8.431000</td>\n",
              "    </tr>\n",
              "    <tr>\n",
              "      <th>&gt;80</th>\n",
              "      <td>9.145651</td>\n",
              "      <td>2.493099e-03</td>\n",
              "      <td>8.647844</td>\n",
              "    </tr>\n",
              "    <tr>\n",
              "      <th rowspan=\"4\" valign=\"top\">20-29</th>\n",
              "      <th>50-59</th>\n",
              "      <td>9.419182</td>\n",
              "      <td>2.147273e-03</td>\n",
              "      <td>8.863279</td>\n",
              "    </tr>\n",
              "    <tr>\n",
              "      <th>60-69</th>\n",
              "      <td>14.793642</td>\n",
              "      <td>1.199392e-04</td>\n",
              "      <td>13.025409</td>\n",
              "    </tr>\n",
              "    <tr>\n",
              "      <th>70-79</th>\n",
              "      <td>28.384399</td>\n",
              "      <td>9.946362e-08</td>\n",
              "      <td>23.261256</td>\n",
              "    </tr>\n",
              "    <tr>\n",
              "      <th>&gt;80</th>\n",
              "      <td>26.869668</td>\n",
              "      <td>2.176481e-07</td>\n",
              "      <td>22.131499</td>\n",
              "    </tr>\n",
              "    <tr>\n",
              "      <th rowspan=\"4\" valign=\"top\">30-39</th>\n",
              "      <th>50-59</th>\n",
              "      <td>15.773977</td>\n",
              "      <td>7.137753e-05</td>\n",
              "      <td>13.774170</td>\n",
              "    </tr>\n",
              "    <tr>\n",
              "      <th>60-69</th>\n",
              "      <td>28.854505</td>\n",
              "      <td>7.802421e-08</td>\n",
              "      <td>23.611503</td>\n",
              "    </tr>\n",
              "    <tr>\n",
              "      <th>70-79</th>\n",
              "      <td>54.654683</td>\n",
              "      <td>1.436815e-13</td>\n",
              "      <td>42.662191</td>\n",
              "    </tr>\n",
              "    <tr>\n",
              "      <th>&gt;80</th>\n",
              "      <td>52.808625</td>\n",
              "      <td>3.676831e-13</td>\n",
              "      <td>41.306602</td>\n",
              "    </tr>\n",
              "    <tr>\n",
              "      <th rowspan=\"4\" valign=\"top\">40-49</th>\n",
              "      <th>50-59</th>\n",
              "      <td>5.817605</td>\n",
              "      <td>1.586653e-02</td>\n",
              "      <td>5.977869</td>\n",
              "    </tr>\n",
              "    <tr>\n",
              "      <th>60-69</th>\n",
              "      <td>25.881369</td>\n",
              "      <td>3.630563e-07</td>\n",
              "      <td>21.393303</td>\n",
              "    </tr>\n",
              "    <tr>\n",
              "      <th>70-79</th>\n",
              "      <td>56.068667</td>\n",
              "      <td>6.998359e-14</td>\n",
              "      <td>43.699977</td>\n",
              "    </tr>\n",
              "    <tr>\n",
              "      <th>&gt;80</th>\n",
              "      <td>49.599408</td>\n",
              "      <td>1.885706e-12</td>\n",
              "      <td>38.948033</td>\n",
              "    </tr>\n",
              "    <tr>\n",
              "      <th rowspan=\"3\" valign=\"top\">50-59</th>\n",
              "      <th>60-69</th>\n",
              "      <td>8.662113</td>\n",
              "      <td>3.248943e-03</td>\n",
              "      <td>8.265814</td>\n",
              "    </tr>\n",
              "    <tr>\n",
              "      <th>70-79</th>\n",
              "      <td>34.226418</td>\n",
              "      <td>4.905842e-09</td>\n",
              "      <td>27.602852</td>\n",
              "    </tr>\n",
              "    <tr>\n",
              "      <th>&gt;80</th>\n",
              "      <td>24.691647</td>\n",
              "      <td>6.727511e-07</td>\n",
              "      <td>20.503424</td>\n",
              "    </tr>\n",
              "    <tr>\n",
              "      <th rowspan=\"2\" valign=\"top\">60-69</th>\n",
              "      <th>70-79</th>\n",
              "      <td>8.125402</td>\n",
              "      <td>4.364931e-03</td>\n",
              "      <td>7.839825</td>\n",
              "    </tr>\n",
              "    <tr>\n",
              "      <th>&gt;80</th>\n",
              "      <td>5.099237</td>\n",
              "      <td>2.393638e-02</td>\n",
              "      <td>5.384651</td>\n",
              "    </tr>\n",
              "  </tbody>\n",
              "</table>\n",
              "</div>\n",
              "      <button class=\"colab-df-convert\" onclick=\"convertToInteractive('df-8010a2d0-1349-4e3e-adc4-b66d08b0e35b')\"\n",
              "              title=\"Convert this dataframe to an interactive table.\"\n",
              "              style=\"display:none;\">\n",
              "        \n",
              "  <svg xmlns=\"http://www.w3.org/2000/svg\" height=\"24px\"viewBox=\"0 0 24 24\"\n",
              "       width=\"24px\">\n",
              "    <path d=\"M0 0h24v24H0V0z\" fill=\"none\"/>\n",
              "    <path d=\"M18.56 5.44l.94 2.06.94-2.06 2.06-.94-2.06-.94-.94-2.06-.94 2.06-2.06.94zm-11 1L8.5 8.5l.94-2.06 2.06-.94-2.06-.94L8.5 2.5l-.94 2.06-2.06.94zm10 10l.94 2.06.94-2.06 2.06-.94-2.06-.94-.94-2.06-.94 2.06-2.06.94z\"/><path d=\"M17.41 7.96l-1.37-1.37c-.4-.4-.92-.59-1.43-.59-.52 0-1.04.2-1.43.59L10.3 9.45l-7.72 7.72c-.78.78-.78 2.05 0 2.83L4 21.41c.39.39.9.59 1.41.59.51 0 1.02-.2 1.41-.59l7.78-7.78 2.81-2.81c.8-.78.8-2.07 0-2.86zM5.41 20L4 18.59l7.72-7.72 1.47 1.35L5.41 20z\"/>\n",
              "  </svg>\n",
              "      </button>\n",
              "      \n",
              "  <style>\n",
              "    .colab-df-container {\n",
              "      display:flex;\n",
              "      flex-wrap:wrap;\n",
              "      gap: 12px;\n",
              "    }\n",
              "\n",
              "    .colab-df-convert {\n",
              "      background-color: #E8F0FE;\n",
              "      border: none;\n",
              "      border-radius: 50%;\n",
              "      cursor: pointer;\n",
              "      display: none;\n",
              "      fill: #1967D2;\n",
              "      height: 32px;\n",
              "      padding: 0 0 0 0;\n",
              "      width: 32px;\n",
              "    }\n",
              "\n",
              "    .colab-df-convert:hover {\n",
              "      background-color: #E2EBFA;\n",
              "      box-shadow: 0px 1px 2px rgba(60, 64, 67, 0.3), 0px 1px 3px 1px rgba(60, 64, 67, 0.15);\n",
              "      fill: #174EA6;\n",
              "    }\n",
              "\n",
              "    [theme=dark] .colab-df-convert {\n",
              "      background-color: #3B4455;\n",
              "      fill: #D2E3FC;\n",
              "    }\n",
              "\n",
              "    [theme=dark] .colab-df-convert:hover {\n",
              "      background-color: #434B5C;\n",
              "      box-shadow: 0px 1px 3px 1px rgba(0, 0, 0, 0.15);\n",
              "      filter: drop-shadow(0px 1px 2px rgba(0, 0, 0, 0.3));\n",
              "      fill: #FFFFFF;\n",
              "    }\n",
              "  </style>\n",
              "\n",
              "      <script>\n",
              "        const buttonEl =\n",
              "          document.querySelector('#df-8010a2d0-1349-4e3e-adc4-b66d08b0e35b button.colab-df-convert');\n",
              "        buttonEl.style.display =\n",
              "          google.colab.kernel.accessAllowed ? 'block' : 'none';\n",
              "\n",
              "        async function convertToInteractive(key) {\n",
              "          const element = document.querySelector('#df-8010a2d0-1349-4e3e-adc4-b66d08b0e35b');\n",
              "          const dataTable =\n",
              "            await google.colab.kernel.invokeFunction('convertToInteractive',\n",
              "                                                     [key], {});\n",
              "          if (!dataTable) return;\n",
              "\n",
              "          const docLinkHtml = 'Like what you see? Visit the ' +\n",
              "            '<a target=\"_blank\" href=https://colab.research.google.com/notebooks/data_table.ipynb>data table notebook</a>'\n",
              "            + ' to learn more about interactive tables.';\n",
              "          element.innerHTML = '';\n",
              "          dataTable['output_type'] = 'display_data';\n",
              "          await google.colab.output.renderOutput(dataTable, element);\n",
              "          const docLink = document.createElement('div');\n",
              "          docLink.innerHTML = docLinkHtml;\n",
              "          element.appendChild(docLink);\n",
              "        }\n",
              "      </script>\n",
              "    </div>\n",
              "  </div>\n",
              "  "
            ],
            "text/plain": [
              "             test_statistic             p   -log2(p)\n",
              "12-19 50-59        5.175348  2.290958e-02   5.447905\n",
              "      60-69        5.366820  2.052337e-02   5.606589\n",
              "      70-79        8.870945  2.897452e-03   8.431000\n",
              "      >80          9.145651  2.493099e-03   8.647844\n",
              "20-29 50-59        9.419182  2.147273e-03   8.863279\n",
              "      60-69       14.793642  1.199392e-04  13.025409\n",
              "      70-79       28.384399  9.946362e-08  23.261256\n",
              "      >80         26.869668  2.176481e-07  22.131499\n",
              "30-39 50-59       15.773977  7.137753e-05  13.774170\n",
              "      60-69       28.854505  7.802421e-08  23.611503\n",
              "      70-79       54.654683  1.436815e-13  42.662191\n",
              "      >80         52.808625  3.676831e-13  41.306602\n",
              "40-49 50-59        5.817605  1.586653e-02   5.977869\n",
              "      60-69       25.881369  3.630563e-07  21.393303\n",
              "      70-79       56.068667  6.998359e-14  43.699977\n",
              "      >80         49.599408  1.885706e-12  38.948033\n",
              "50-59 60-69        8.662113  3.248943e-03   8.265814\n",
              "      70-79       34.226418  4.905842e-09  27.602852\n",
              "      >80         24.691647  6.727511e-07  20.503424\n",
              "60-69 70-79        8.125402  4.364931e-03   7.839825\n",
              "      >80          5.099237  2.393638e-02   5.384651"
            ]
          },
          "metadata": {},
          "execution_count": 61
        }
      ]
    },
    {
      "cell_type": "markdown",
      "source": [
        "Multivariate log-rank test: null hypothesis states that all the groups have the same “death” generating process, so their survival curves are identical."
      ],
      "metadata": {
        "id": "RVryalS_wlnu"
      }
    },
    {
      "cell_type": "code",
      "source": [
        "results = multivariate_logrank_test(T, df['AGE_GROUP'], E)\n",
        "results.summary"
      ],
      "metadata": {
        "colab": {
          "base_uri": "https://localhost:8080/",
          "height": 81
        },
        "id": "5qjOGWCtwQN8",
        "outputId": "f8c1c611-35d9-409a-b46a-94e50af52735"
      },
      "execution_count": null,
      "outputs": [
        {
          "output_type": "execute_result",
          "data": {
            "text/html": [
              "\n",
              "  <div id=\"df-87053304-60ad-45cf-bad1-391593ca9a56\">\n",
              "    <div class=\"colab-df-container\">\n",
              "      <div>\n",
              "<style scoped>\n",
              "    .dataframe tbody tr th:only-of-type {\n",
              "        vertical-align: middle;\n",
              "    }\n",
              "\n",
              "    .dataframe tbody tr th {\n",
              "        vertical-align: top;\n",
              "    }\n",
              "\n",
              "    .dataframe thead th {\n",
              "        text-align: right;\n",
              "    }\n",
              "</style>\n",
              "<table border=\"1\" class=\"dataframe\">\n",
              "  <thead>\n",
              "    <tr style=\"text-align: right;\">\n",
              "      <th></th>\n",
              "      <th>test_statistic</th>\n",
              "      <th>p</th>\n",
              "      <th>-log2(p)</th>\n",
              "    </tr>\n",
              "  </thead>\n",
              "  <tbody>\n",
              "    <tr>\n",
              "      <th>0</th>\n",
              "      <td>141.231589</td>\n",
              "      <td>2.805792e-27</td>\n",
              "      <td>88.203651</td>\n",
              "    </tr>\n",
              "  </tbody>\n",
              "</table>\n",
              "</div>\n",
              "      <button class=\"colab-df-convert\" onclick=\"convertToInteractive('df-87053304-60ad-45cf-bad1-391593ca9a56')\"\n",
              "              title=\"Convert this dataframe to an interactive table.\"\n",
              "              style=\"display:none;\">\n",
              "        \n",
              "  <svg xmlns=\"http://www.w3.org/2000/svg\" height=\"24px\"viewBox=\"0 0 24 24\"\n",
              "       width=\"24px\">\n",
              "    <path d=\"M0 0h24v24H0V0z\" fill=\"none\"/>\n",
              "    <path d=\"M18.56 5.44l.94 2.06.94-2.06 2.06-.94-2.06-.94-.94-2.06-.94 2.06-2.06.94zm-11 1L8.5 8.5l.94-2.06 2.06-.94-2.06-.94L8.5 2.5l-.94 2.06-2.06.94zm10 10l.94 2.06.94-2.06 2.06-.94-2.06-.94-.94-2.06-.94 2.06-2.06.94z\"/><path d=\"M17.41 7.96l-1.37-1.37c-.4-.4-.92-.59-1.43-.59-.52 0-1.04.2-1.43.59L10.3 9.45l-7.72 7.72c-.78.78-.78 2.05 0 2.83L4 21.41c.39.39.9.59 1.41.59.51 0 1.02-.2 1.41-.59l7.78-7.78 2.81-2.81c.8-.78.8-2.07 0-2.86zM5.41 20L4 18.59l7.72-7.72 1.47 1.35L5.41 20z\"/>\n",
              "  </svg>\n",
              "      </button>\n",
              "      \n",
              "  <style>\n",
              "    .colab-df-container {\n",
              "      display:flex;\n",
              "      flex-wrap:wrap;\n",
              "      gap: 12px;\n",
              "    }\n",
              "\n",
              "    .colab-df-convert {\n",
              "      background-color: #E8F0FE;\n",
              "      border: none;\n",
              "      border-radius: 50%;\n",
              "      cursor: pointer;\n",
              "      display: none;\n",
              "      fill: #1967D2;\n",
              "      height: 32px;\n",
              "      padding: 0 0 0 0;\n",
              "      width: 32px;\n",
              "    }\n",
              "\n",
              "    .colab-df-convert:hover {\n",
              "      background-color: #E2EBFA;\n",
              "      box-shadow: 0px 1px 2px rgba(60, 64, 67, 0.3), 0px 1px 3px 1px rgba(60, 64, 67, 0.15);\n",
              "      fill: #174EA6;\n",
              "    }\n",
              "\n",
              "    [theme=dark] .colab-df-convert {\n",
              "      background-color: #3B4455;\n",
              "      fill: #D2E3FC;\n",
              "    }\n",
              "\n",
              "    [theme=dark] .colab-df-convert:hover {\n",
              "      background-color: #434B5C;\n",
              "      box-shadow: 0px 1px 3px 1px rgba(0, 0, 0, 0.15);\n",
              "      filter: drop-shadow(0px 1px 2px rgba(0, 0, 0, 0.3));\n",
              "      fill: #FFFFFF;\n",
              "    }\n",
              "  </style>\n",
              "\n",
              "      <script>\n",
              "        const buttonEl =\n",
              "          document.querySelector('#df-87053304-60ad-45cf-bad1-391593ca9a56 button.colab-df-convert');\n",
              "        buttonEl.style.display =\n",
              "          google.colab.kernel.accessAllowed ? 'block' : 'none';\n",
              "\n",
              "        async function convertToInteractive(key) {\n",
              "          const element = document.querySelector('#df-87053304-60ad-45cf-bad1-391593ca9a56');\n",
              "          const dataTable =\n",
              "            await google.colab.kernel.invokeFunction('convertToInteractive',\n",
              "                                                     [key], {});\n",
              "          if (!dataTable) return;\n",
              "\n",
              "          const docLinkHtml = 'Like what you see? Visit the ' +\n",
              "            '<a target=\"_blank\" href=https://colab.research.google.com/notebooks/data_table.ipynb>data table notebook</a>'\n",
              "            + ' to learn more about interactive tables.';\n",
              "          element.innerHTML = '';\n",
              "          dataTable['output_type'] = 'display_data';\n",
              "          await google.colab.output.renderOutput(dataTable, element);\n",
              "          const docLink = document.createElement('div');\n",
              "          docLink.innerHTML = docLinkHtml;\n",
              "          element.appendChild(docLink);\n",
              "        }\n",
              "      </script>\n",
              "    </div>\n",
              "  </div>\n",
              "  "
            ],
            "text/plain": [
              "   test_statistic             p   -log2(p)\n",
              "0      141.231589  2.805792e-27  88.203651"
            ]
          },
          "metadata": {},
          "execution_count": 63
        }
      ]
    },
    {
      "cell_type": "markdown",
      "source": [
        "p<0.05: Survival curves are not identical."
      ],
      "metadata": {
        "id": "jav2Oz2ewfiU"
      }
    }
  ]
}